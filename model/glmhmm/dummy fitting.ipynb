{
 "cells": [
  {
   "cell_type": "code",
   "execution_count": 11,
   "metadata": {},
   "outputs": [],
   "source": [
    "import glmhmm"
   ]
  },
  {
   "cell_type": "code",
   "execution_count": null,
   "metadata": {},
   "outputs": [],
   "source": [
    "num_data = 500\n",
    "model_true = GLMHMM(num_data, 2, 1, 1) #N, n_states, n_features, n_outputs\n",
    "model_true.transition_matrix = np.array([[0.5, 0.5], [0.5, 0.5]])"
   ]
  },
  {
   "cell_type": "code",
   "execution_count": null,
   "metadata": {},
   "outputs": [],
   "source": [
    "X, Y, states = model_true.generate_data(num_data)"
   ]
  },
  {
   "cell_type": "code",
   "execution_count": null,
   "metadata": {},
   "outputs": [],
   "source": [
    "init = 3\n",
    "lls_all = np.zeros((init, 250))\n",
    "A_all = np.zeros((init, 2, 2))\n",
    "w_all = np.zeros((init, 2, 2, 1))\n",
    "pi0_all = np.zeros((init, 2))\n",
    "for i in range(init):\n",
    "  print(f'-----------------init {i}-----------------')\n",
    "  model_pred = GLMHMM(num_data, 2, 1, 1)\n",
    "  A=model_pred.transition_matrix\n",
    "  w=model_pred.w\n",
    "  lls,A,w,pi0 = model_pred.fit(Y,X,A,w, fit_init_states=True)\n",
    "  lls_all[i] = lls\n",
    "  A_all[i] = A\n",
    "  w_all[i] = w\n",
    "  pi0_all[i] = pi0"
   ]
  },
  {
   "cell_type": "code",
   "execution_count": null,
   "metadata": {},
   "outputs": [],
   "source": [
    "hmm = ssm.HMM(2, 1, M=1, transitions=\"inputdriven\")\n",
    "hmm_lls = hmm.fit(Y, inputs=X, method=\"em\", num_iters=100, init_method=\"kmeans\")"
   ]
  },
  {
   "cell_type": "code",
   "execution_count": null,
   "metadata": {},
   "outputs": [],
   "source": [
    "hmm.transitions.Ws, np.exp(hmm.transitions.log_Ps)"
   ]
  },
  {
   "cell_type": "code",
   "execution_count": null,
   "metadata": {},
   "outputs": [],
   "source": [
    "hmm = ssm.HMM(2, 1)\n",
    "hmm_lls = hmm.fit(Y, method=\"em\", num_iters=100, init_method=\"kmeans\")\n",
    "hmm.transitions.transition_matrix"
   ]
  },
  {
   "cell_type": "code",
   "execution_count": null,
   "metadata": {},
   "outputs": [],
   "source": [
    "def find_best_fit(lls):\n",
    "    cleaned_lls = matrix[~np.isnan(matrix).all(axis=1)]\n",
    "    return np.argmax(np.nanmax(lls,axis=1))"
   ]
  },
  {
   "cell_type": "code",
   "execution_count": null,
   "metadata": {},
   "outputs": [],
   "source": [
    "bestidx = find_best_fit(lls_all) # run several times (several inti) and get the best one\n",
    "A_pred = A_all[bestidx]\n",
    "w_pred = w_all[bestidx]\n",
    "pi0_pred = pi0_all[bestidx]"
   ]
  }
 ],
 "metadata": {
  "kernelspec": {
   "display_name": ".venv",
   "language": "python",
   "name": "python3"
  },
  "language_info": {
   "codemirror_mode": {
    "name": "ipython",
    "version": 3
   },
   "file_extension": ".py",
   "mimetype": "text/x-python",
   "name": "python",
   "nbconvert_exporter": "python",
   "pygments_lexer": "ipython3",
   "version": "3.8.10"
  }
 },
 "nbformat": 4,
 "nbformat_minor": 2
}
